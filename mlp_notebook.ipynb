{
 "cells": [
  {
   "cell_type": "code",
   "execution_count": 54,
   "id": "e23946d3",
   "metadata": {},
   "outputs": [],
   "source": [
    "import numpy as np  #import of numpy & Assign alias np"
   ]
  },
  {
   "cell_type": "code",
   "execution_count": 56,
   "id": "921426b7",
   "metadata": {},
   "outputs": [
    {
     "name": "stdout",
     "output_type": "stream",
     "text": [
      "[1 2 3 4 5]\n"
     ]
    }
   ],
   "source": [
    "a= np.array([1,2,3,4,5])  #create simple array\n",
    "print(a)"
   ]
  },
  {
   "cell_type": "code",
   "execution_count": 58,
   "id": "1c3683fc",
   "metadata": {},
   "outputs": [
    {
     "name": "stdout",
     "output_type": "stream",
     "text": [
      "shape of al{} (5,)\n"
     ]
    }
   ],
   "source": [
    "print(\"shape of al{}\",format(a.shape))  #return the shape of array"
   ]
  },
  {
   "cell_type": "code",
   "execution_count": 64,
   "id": "de2ead27",
   "metadata": {},
   "outputs": [
    {
     "name": "stdout",
     "output_type": "stream",
     "text": [
      "Size : 5\n",
      "dtype int64\n",
      "itemsize 8\n",
      "data<memory at 0x7f19b2329ac0>\n"
     ]
    }
   ],
   "source": [
    "print(\"Size :\",format(a.size))  #return size of array\n",
    "print(f\"dtype {a.dtype}\")       #return datatype of array\n",
    "print(f\"itemsize {a.itemsize}\")  #return itemsize of array\n",
    "print(f\"data{a.data}\")          #return data of array"
   ]
  },
  {
   "cell_type": "code",
   "execution_count": 53,
   "id": "1ae45158",
   "metadata": {},
   "outputs": [
    {
     "name": "stdout",
     "output_type": "stream",
     "text": [
      "[1 2 3 4 5 6]\n",
      "[[ 7  8]\n",
      " [ 9 10]]\n"
     ]
    }
   ],
   "source": [
    "a = np.array([1,2,3,4,5,6])  #define single array\n",
    "b = np.array([[7,8],[9,10]])  #define two dimension array\n",
    "print(a)         #print single array\n",
    "print(b)         #print two dimention array"
   ]
  },
  {
   "cell_type": "code",
   "execution_count": 18,
   "id": "01a319ce",
   "metadata": {},
   "outputs": [
    {
     "name": "stdout",
     "output_type": "stream",
     "text": [
      "[3 4 5 6]\n"
     ]
    }
   ],
   "source": [
    "slicedArr = a[2:]   #give sliced the array \n",
    "print(slicedArr)"
   ]
  },
  {
   "cell_type": "code",
   "execution_count": 19,
   "id": "0bacf88e",
   "metadata": {},
   "outputs": [
    {
     "name": "stdout",
     "output_type": "stream",
     "text": [
      "21\n"
     ]
    }
   ],
   "source": [
    "sum_of_a = np.sum(a)  #return sum of digit all the array\n",
    "print(sum_of_a)"
   ]
  },
  {
   "cell_type": "code",
   "execution_count": 32,
   "id": "a255c4e9",
   "metadata": {},
   "outputs": [
    {
     "name": "stdout",
     "output_type": "stream",
     "text": [
      "[[19 22]\n",
      " [43 50]]\n"
     ]
    }
   ],
   "source": [
    "m1 = np.array([[1,2],[3,4]])  #used for matrix multipication for 2 dimantion array\n",
    "m2 = np.array([[5,6],[7,8]])\n",
    "mul = np.dot(m1,m2)            #1,2  * 5,6\n",
    "print(mul)                     #3,4    7,8"
   ]
  },
  {
   "cell_type": "code",
   "execution_count": 36,
   "id": "a30c0172",
   "metadata": {},
   "outputs": [
    {
     "name": "stdout",
     "output_type": "stream",
     "text": [
      "[[4 4]\n",
      " [4 4]]\n"
     ]
    }
   ],
   "source": [
    "subM = np.subtract(m2,m1)     # used for subtraction of two array\n",
    "print(subM)"
   ]
  },
  {
   "cell_type": "code",
   "execution_count": 37,
   "id": "e06b11fb",
   "metadata": {},
   "outputs": [
    {
     "name": "stdout",
     "output_type": "stream",
     "text": [
      "[[ 6  8]\n",
      " [10 12]]\n"
     ]
    }
   ],
   "source": [
    "addM = np.add(m2,m1)         # used for addition of two array\n",
    "print(addM)"
   ]
  },
  {
   "cell_type": "code",
   "execution_count": 38,
   "id": "1d1551d7",
   "metadata": {},
   "outputs": [
    {
     "name": "stdout",
     "output_type": "stream",
     "text": [
      "[1 2 3 4 5 6 7 8 9]\n",
      "[[1 2 3]\n",
      " [4 5 6]\n",
      " [7 8 9]]\n"
     ]
    }
   ],
   "source": [
    "m3 = np.array([1,2,3,4,5,6,7,8,9])     # used for resharpe of the array 3*3\n",
    "print(m3)\n",
    "re = m3.reshape(3,3)\n",
    "print(re)"
   ]
  },
  {
   "cell_type": "code",
   "execution_count": 51,
   "id": "77057afc",
   "metadata": {},
   "outputs": [
    {
     "name": "stdout",
     "output_type": "stream",
     "text": [
      "Maximum of m3 is =  9\n",
      "Maximum of m3 is =  1\n",
      "Maximum of m3 is =  9\n",
      "Minimum of m3 is =  1\n"
     ]
    }
   ],
   "source": [
    "print(\"Maximum of m3 is = \",max(m3))  # return maximum value from m3 array\n",
    "print(\"Maximum of m3 is = \",min(m3))   # return  minimum value from m3 array\n",
    "print(\"Maximum of m3 is = \",m3.max())   \n",
    "print(\"Minimum of m3 is = \",m3.min())"
   ]
  },
  {
   "cell_type": "code",
   "execution_count": 25,
   "id": "be73fac2",
   "metadata": {},
   "outputs": [
    {
     "name": "stdout",
     "output_type": "stream",
     "text": [
      "Maximum in row is =  [3 6 9]\n",
      "Minimum in col is =  [1 2 3]\n"
     ]
    }
   ],
   "source": [
    "print(\"Maximum in row is = \", re.max(axis=1))  #return maximum value from re array as row wise\n",
    "print(\"Minimum in col is = \", re.min(axis=0))  #return minimum value from re array as col wise"
   ]
  },
  {
   "cell_type": "code",
   "execution_count": 26,
   "id": "367cb3cd",
   "metadata": {},
   "outputs": [
    {
     "name": "stdout",
     "output_type": "stream",
     "text": [
      "[[ 4  9 25]\n",
      " [36 49 64]]\n",
      "[[2. 3. 5.]\n",
      " [6. 7. 8.]]\n",
      "Standard deviation: 21.16141667175323\n"
     ]
    }
   ],
   "source": [
    "m4 = np.array([[4,9,25],[36,49,64]])\n",
    "print(m4)\n",
    "print(np.sqrt(m4))  #return squre root of array m4\n",
    "print(\"Standard deviation:\",np.std(m4))  #return standard deviation of array m4"
   ]
  },
  {
   "cell_type": "code",
   "execution_count": 27,
   "id": "aed8b634",
   "metadata": {},
   "outputs": [
    {
     "name": "stdout",
     "output_type": "stream",
     "text": [
      "[[1 2]\n",
      " [3 4]\n",
      " [5 6]\n",
      " [7 8]]\n",
      "[[1 2 5 6]\n",
      " [3 4 7 8]]\n"
     ]
    }
   ],
   "source": [
    "v = np.vstack((m1,m2))   #used to print the array in vertically\n",
    "print(v)\n",
    "h = np.hstack((m1,m2))     #used to print the array in horizontally\n",
    "print(h)  "
   ]
  },
  {
   "cell_type": "code",
   "execution_count": 28,
   "id": "39994334",
   "metadata": {},
   "outputs": [
    {
     "name": "stdout",
     "output_type": "stream",
     "text": [
      "[ 0.  2.  4.  6.  8. 10. 12. 14. 16. 18.]\n",
      "data type =  float64\n"
     ]
    }
   ],
   "source": [
    "arr = np.arange(0,20,2,float)       #used to assign array from 0 to 20 in between gap\n",
    "print(arr)\n",
    "print(\"data type = \", arr.dtype)    #used to display the datatype of array"
   ]
  },
  {
   "cell_type": "code",
   "execution_count": 29,
   "id": "90753248",
   "metadata": {},
   "outputs": [
    {
     "name": "stdout",
     "output_type": "stream",
     "text": [
      "[ 0.  5. 10. 15. 20.]\n",
      "float64\n"
     ]
    }
   ],
   "source": [
    "arr1 = np.linspace(0,20,5)  #Create array from 0 to 20 with 3 value\n",
    "print(arr1)\n",
    "print(arr1.dtype)"
   ]
  },
  {
   "cell_type": "code",
   "execution_count": 50,
   "id": "6a2755a8",
   "metadata": {},
   "outputs": [
    {
     "name": "stdout",
     "output_type": "stream",
     "text": [
      "[1 2 3 4]\n",
      "[[1 3]\n",
      " [2 4]]\n"
     ]
    }
   ],
   "source": [
    "d1=np.array([[1,2],[3,4]])    #transform the array\n",
    "h=np.hstack(d1)\n",
    "v=np.vstack(d1) \n",
    "ht = h.T\n",
    "vt = v.T\n",
    "print(ht)\n",
    "print(vt)"
   ]
  },
  {
   "cell_type": "code",
   "execution_count": 40,
   "id": "5a79c994",
   "metadata": {},
   "outputs": [
    {
     "name": "stdout",
     "output_type": "stream",
     "text": [
      "[1 2 3 4 5 6 7 8]\n"
     ]
    }
   ],
   "source": [
    "a=np.array([1,2,3,4,5,6,7,8])   #define array\n",
    "print(a)"
   ]
  },
  {
   "cell_type": "code",
   "execution_count": 41,
   "id": "24e18f84",
   "metadata": {},
   "outputs": [
    {
     "name": "stdout",
     "output_type": "stream",
     "text": [
      "ele : 1\n",
      "ele : 2\n",
      "ele : 3\n",
      "ele : 4\n",
      "ele : 5\n",
      "ele : 6\n",
      "ele : 7\n",
      "ele : 8\n"
     ]
    }
   ],
   "source": [
    "for i in np.nditer(a):  #print the element with using for loop\n",
    "    print(\"ele :\",i)"
   ]
  },
  {
   "cell_type": "code",
   "execution_count": 42,
   "id": "4e518daa",
   "metadata": {},
   "outputs": [
    {
     "name": "stdout",
     "output_type": "stream",
     "text": [
      "[array([1, 2, 3, 4]), array([5, 6, 7, 8])]\n"
     ]
    }
   ],
   "source": [
    "hNew=np.hsplit(a,2)\n",
    "print(hNew)"
   ]
  },
  {
   "cell_type": "code",
   "execution_count": 43,
   "id": "db0fc12d",
   "metadata": {},
   "outputs": [
    {
     "name": "stdout",
     "output_type": "stream",
     "text": [
      "Sqrt:  [4.79583152 5.83095189 6.70820393 8.18535277]\n",
      "Exp:  [9.74480345e+09 5.83461743e+14 3.49342711e+19 1.25236317e+29]\n",
      "Sin:  [-0.8462204   0.52908269  0.85090352 -0.85551998]\n",
      "Cos:  [-0.53283302 -0.84857027  0.52532199 -0.5177698 ]\n",
      "Log:  [3.13549422 3.52636052 3.80666249 4.20469262]\n",
      "Sum:  169\n",
      "Std:  16.269219403523945\n"
     ]
    }
   ],
   "source": [
    "arr=np.array([23,34,45,67])  \n",
    "print(\"Sqrt: \",np.sqrt(arr))   #return squre root of each array\n",
    "print(\"Exp: \",np.exp(arr))     #return exponentials of each element\n",
    "print(\"Sin: \",np.sin(arr))     #return sin of each element\n",
    "print(\"Cos: \",np.cos(arr))     #return cos of each element\n",
    "print(\"Log: \",np.log(arr))     #return log of each element\n",
    "print(\"Sum: \",np.sum(arr))     #return sum of each element\n",
    "print(\"Std: \",np.std(arr))     #return standard deviation of array "
   ]
  },
  {
   "cell_type": "code",
   "execution_count": 47,
   "id": "1cc12c35",
   "metadata": {},
   "outputs": [
    {
     "name": "stdout",
     "output_type": "stream",
     "text": [
      "mean: 42.25\n",
      "mean: 39.5\n",
      "mean: ModeResult(mode=array([23]), count=array([1]))\n"
     ]
    }
   ],
   "source": [
    "from scipy import stats as st\n",
    "print(\"mean:\",np.mean(arr))   #return mean value of array\n",
    "print(\"mean:\",np.median(arr))  #return median value of array\n",
    "print(\"mean:\",st.mode(arr))   #retun mode value"
   ]
  },
  {
   "cell_type": "code",
   "execution_count": null,
   "id": "7d02a2cd",
   "metadata": {},
   "outputs": [],
   "source": []
  }
 ],
 "metadata": {
  "kernelspec": {
   "display_name": "Python 3 (ipykernel)",
   "language": "python",
   "name": "python3"
  },
  "language_info": {
   "codemirror_mode": {
    "name": "ipython",
    "version": 3
   },
   "file_extension": ".py",
   "mimetype": "text/x-python",
   "name": "python",
   "nbconvert_exporter": "python",
   "pygments_lexer": "ipython3",
   "version": "3.9.12"
  }
 },
 "nbformat": 4,
 "nbformat_minor": 5
}
